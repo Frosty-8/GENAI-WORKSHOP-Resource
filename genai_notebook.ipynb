{
 "cells": [
  {
   "cell_type": "code",
   "execution_count": 6,
   "id": "81aa7363",
   "metadata": {},
   "outputs": [
    {
     "data": {
      "text/html": [
       "<pre style=\"white-space:pre;overflow-x:auto;line-height:normal;font-family:Menlo,'DejaVu Sans Mono',consolas,'Courier New',monospace\"><span style=\"color: #7fbfbf; text-decoration-color: #7fbfbf\">[07/20/25 15:00:47] </span><span style=\"color: #008000; text-decoration-color: #008000\">DEBUG   </span> DEBUG | <span style=\"color: #008080; text-decoration-color: #008080; font-weight: bold\">2025</span>-<span style=\"color: #008080; text-decoration-color: #008080; font-weight: bold\">07</span>-<span style=\"color: #008080; text-decoration-color: #008080; font-weight: bold\">20</span> <span style=\"color: #00ff00; text-decoration-color: #00ff00; font-weight: bold\">15:00:47</span>,<span style=\"color: #008080; text-decoration-color: #008080; font-weight: bold\">426</span> | This is a debug message: invisible  <a href=\"file://C:\\Users\\Sarthak\\AppData\\Local\\Temp\\ipykernel_12880\\4101240448.py\" target=\"_blank\"><span style=\"color: #7f7f7f; text-decoration-color: #7f7f7f\">4101240448.py</span></a><span style=\"color: #7f7f7f; text-decoration-color: #7f7f7f\">:</span><a href=\"file://C:\\Users\\Sarthak\\AppData\\Local\\Temp\\ipykernel_12880\\4101240448.py#13\" target=\"_blank\"><span style=\"color: #7f7f7f; text-decoration-color: #7f7f7f\">13</span></a>\n",
       "<span style=\"color: #7fbfbf; text-decoration-color: #7fbfbf\">                    </span>         unless level is DEBUG.                                                <span style=\"color: #7f7f7f; text-decoration-color: #7f7f7f\">                </span>\n",
       "</pre>\n"
      ],
      "text/plain": [
       "\u001b[2;36m[07/20/25 15:00:47]\u001b[0m\u001b[2;36m \u001b[0m\u001b[32mDEBUG   \u001b[0m DEBUG | \u001b[1;36m2025\u001b[0m-\u001b[1;36m07\u001b[0m-\u001b[1;36m20\u001b[0m \u001b[1;92m15:00:47\u001b[0m,\u001b[1;36m426\u001b[0m | This is a debug message: invisible  \u001b]8;id=70774;file://C:\\Users\\Sarthak\\AppData\\Local\\Temp\\ipykernel_12880\\4101240448.py\u001b\\\u001b[2m4101240448.py\u001b[0m\u001b]8;;\u001b\\\u001b[2m:\u001b[0m\u001b]8;id=774552;file://C:\\Users\\Sarthak\\AppData\\Local\\Temp\\ipykernel_12880\\4101240448.py#13\u001b\\\u001b[2m13\u001b[0m\u001b]8;;\u001b\\\n",
       "\u001b[2;36m                    \u001b[0m         unless level is DEBUG.                                                \u001b[2m                \u001b[0m\n"
      ]
     },
     "metadata": {},
     "output_type": "display_data"
    },
    {
     "data": {
      "text/html": [
       "<pre style=\"white-space:pre;overflow-x:auto;line-height:normal;font-family:Menlo,'DejaVu Sans Mono',consolas,'Courier New',monospace\"><span style=\"color: #7fbfbf; text-decoration-color: #7fbfbf\">                    </span><span style=\"color: #000080; text-decoration-color: #000080\">INFO    </span> INFO | <span style=\"color: #008080; text-decoration-color: #008080; font-weight: bold\">2025</span>-<span style=\"color: #008080; text-decoration-color: #008080; font-weight: bold\">07</span>-<span style=\"color: #008080; text-decoration-color: #008080; font-weight: bold\">20</span> <span style=\"color: #00ff00; text-decoration-color: #00ff00; font-weight: bold\">15:00:47</span>,<span style=\"color: #008080; text-decoration-color: #008080; font-weight: bold\">433</span> | App started successfully.            <a href=\"file://C:\\Users\\Sarthak\\AppData\\Local\\Temp\\ipykernel_12880\\4101240448.py\" target=\"_blank\"><span style=\"color: #7f7f7f; text-decoration-color: #7f7f7f\">4101240448.py</span></a><span style=\"color: #7f7f7f; text-decoration-color: #7f7f7f\">:</span><a href=\"file://C:\\Users\\Sarthak\\AppData\\Local\\Temp\\ipykernel_12880\\4101240448.py#14\" target=\"_blank\"><span style=\"color: #7f7f7f; text-decoration-color: #7f7f7f\">14</span></a>\n",
       "</pre>\n"
      ],
      "text/plain": [
       "\u001b[2;36m                   \u001b[0m\u001b[2;36m \u001b[0m\u001b[34mINFO    \u001b[0m INFO | \u001b[1;36m2025\u001b[0m-\u001b[1;36m07\u001b[0m-\u001b[1;36m20\u001b[0m \u001b[1;92m15:00:47\u001b[0m,\u001b[1;36m433\u001b[0m | App started successfully.            \u001b]8;id=176085;file://C:\\Users\\Sarthak\\AppData\\Local\\Temp\\ipykernel_12880\\4101240448.py\u001b\\\u001b[2m4101240448.py\u001b[0m\u001b]8;;\u001b\\\u001b[2m:\u001b[0m\u001b]8;id=101061;file://C:\\Users\\Sarthak\\AppData\\Local\\Temp\\ipykernel_12880\\4101240448.py#14\u001b\\\u001b[2m14\u001b[0m\u001b]8;;\u001b\\\n"
      ]
     },
     "metadata": {},
     "output_type": "display_data"
    },
    {
     "data": {
      "text/html": [
       "<pre style=\"white-space:pre;overflow-x:auto;line-height:normal;font-family:Menlo,'DejaVu Sans Mono',consolas,'Courier New',monospace\"><span style=\"color: #7fbfbf; text-decoration-color: #7fbfbf\">                    </span><span style=\"color: #808000; text-decoration-color: #808000\">WARNING </span> WARNING | <span style=\"color: #008080; text-decoration-color: #008080; font-weight: bold\">2025</span>-<span style=\"color: #008080; text-decoration-color: #008080; font-weight: bold\">07</span>-<span style=\"color: #008080; text-decoration-color: #008080; font-weight: bold\">20</span> <span style=\"color: #00ff00; text-decoration-color: #00ff00; font-weight: bold\">15:00:47</span>,<span style=\"color: #008080; text-decoration-color: #008080; font-weight: bold\">442</span> | Deprecated function is used here. <a href=\"file://C:\\Users\\Sarthak\\AppData\\Local\\Temp\\ipykernel_12880\\4101240448.py\" target=\"_blank\"><span style=\"color: #7f7f7f; text-decoration-color: #7f7f7f\">4101240448.py</span></a><span style=\"color: #7f7f7f; text-decoration-color: #7f7f7f\">:</span><a href=\"file://C:\\Users\\Sarthak\\AppData\\Local\\Temp\\ipykernel_12880\\4101240448.py#15\" target=\"_blank\"><span style=\"color: #7f7f7f; text-decoration-color: #7f7f7f\">15</span></a>\n",
       "</pre>\n"
      ],
      "text/plain": [
       "\u001b[2;36m                   \u001b[0m\u001b[2;36m \u001b[0m\u001b[33mWARNING \u001b[0m WARNING | \u001b[1;36m2025\u001b[0m-\u001b[1;36m07\u001b[0m-\u001b[1;36m20\u001b[0m \u001b[1;92m15:00:47\u001b[0m,\u001b[1;36m442\u001b[0m | Deprecated function is used here. \u001b]8;id=65745;file://C:\\Users\\Sarthak\\AppData\\Local\\Temp\\ipykernel_12880\\4101240448.py\u001b\\\u001b[2m4101240448.py\u001b[0m\u001b]8;;\u001b\\\u001b[2m:\u001b[0m\u001b]8;id=646736;file://C:\\Users\\Sarthak\\AppData\\Local\\Temp\\ipykernel_12880\\4101240448.py#15\u001b\\\u001b[2m15\u001b[0m\u001b]8;;\u001b\\\n"
      ]
     },
     "metadata": {},
     "output_type": "display_data"
    },
    {
     "data": {
      "text/html": [
       "<pre style=\"white-space:pre;overflow-x:auto;line-height:normal;font-family:Menlo,'DejaVu Sans Mono',consolas,'Courier New',monospace\"><span style=\"color: #7fbfbf; text-decoration-color: #7fbfbf\">                    </span><span style=\"color: #800000; text-decoration-color: #800000; font-weight: bold\">ERROR   </span> ERROR | <span style=\"color: #008080; text-decoration-color: #008080; font-weight: bold\">2025</span>-<span style=\"color: #008080; text-decoration-color: #008080; font-weight: bold\">07</span>-<span style=\"color: #008080; text-decoration-color: #008080; font-weight: bold\">20</span> <span style=\"color: #00ff00; text-decoration-color: #00ff00; font-weight: bold\">15:00:47</span>,<span style=\"color: #008080; text-decoration-color: #008080; font-weight: bold\">453</span> | An error occurred during            <a href=\"file://C:\\Users\\Sarthak\\AppData\\Local\\Temp\\ipykernel_12880\\4101240448.py\" target=\"_blank\"><span style=\"color: #7f7f7f; text-decoration-color: #7f7f7f\">4101240448.py</span></a><span style=\"color: #7f7f7f; text-decoration-color: #7f7f7f\">:</span><a href=\"file://C:\\Users\\Sarthak\\AppData\\Local\\Temp\\ipykernel_12880\\4101240448.py#16\" target=\"_blank\"><span style=\"color: #7f7f7f; text-decoration-color: #7f7f7f\">16</span></a>\n",
       "<span style=\"color: #7fbfbf; text-decoration-color: #7fbfbf\">                    </span>         processing.                                                           <span style=\"color: #7f7f7f; text-decoration-color: #7f7f7f\">                </span>\n",
       "</pre>\n"
      ],
      "text/plain": [
       "\u001b[2;36m                   \u001b[0m\u001b[2;36m \u001b[0m\u001b[1;31mERROR   \u001b[0m ERROR | \u001b[1;36m2025\u001b[0m-\u001b[1;36m07\u001b[0m-\u001b[1;36m20\u001b[0m \u001b[1;92m15:00:47\u001b[0m,\u001b[1;36m453\u001b[0m | An error occurred during            \u001b]8;id=712146;file://C:\\Users\\Sarthak\\AppData\\Local\\Temp\\ipykernel_12880\\4101240448.py\u001b\\\u001b[2m4101240448.py\u001b[0m\u001b]8;;\u001b\\\u001b[2m:\u001b[0m\u001b]8;id=96622;file://C:\\Users\\Sarthak\\AppData\\Local\\Temp\\ipykernel_12880\\4101240448.py#16\u001b\\\u001b[2m16\u001b[0m\u001b]8;;\u001b\\\n",
       "\u001b[2;36m                    \u001b[0m         processing.                                                           \u001b[2m                \u001b[0m\n"
      ]
     },
     "metadata": {},
     "output_type": "display_data"
    },
    {
     "data": {
      "text/html": [
       "<pre style=\"white-space:pre;overflow-x:auto;line-height:normal;font-family:Menlo,'DejaVu Sans Mono',consolas,'Courier New',monospace\"><span style=\"color: #7fbfbf; text-decoration-color: #7fbfbf\">                    </span><span style=\"background-color: #800000; font-weight: bold\">CRITICAL</span> CRITICAL | <span style=\"color: #008080; text-decoration-color: #008080; font-weight: bold\">2025</span>-<span style=\"color: #008080; text-decoration-color: #008080; font-weight: bold\">07</span>-<span style=\"color: #008080; text-decoration-color: #008080; font-weight: bold\">20</span> <span style=\"color: #00ff00; text-decoration-color: #00ff00; font-weight: bold\">15:00:47</span>,<span style=\"color: #008080; text-decoration-color: #008080; font-weight: bold\">460</span> | Critical failure! Application    <a href=\"file://C:\\Users\\Sarthak\\AppData\\Local\\Temp\\ipykernel_12880\\4101240448.py\" target=\"_blank\"><span style=\"color: #7f7f7f; text-decoration-color: #7f7f7f\">4101240448.py</span></a><span style=\"color: #7f7f7f; text-decoration-color: #7f7f7f\">:</span><a href=\"file://C:\\Users\\Sarthak\\AppData\\Local\\Temp\\ipykernel_12880\\4101240448.py#17\" target=\"_blank\"><span style=\"color: #7f7f7f; text-decoration-color: #7f7f7f\">17</span></a>\n",
       "<span style=\"color: #7fbfbf; text-decoration-color: #7fbfbf\">                    </span>         will terminate.                                                       <span style=\"color: #7f7f7f; text-decoration-color: #7f7f7f\">                </span>\n",
       "</pre>\n"
      ],
      "text/plain": [
       "\u001b[2;36m                   \u001b[0m\u001b[2;36m \u001b[0m\u001b[1;7;31mCRITICAL\u001b[0m CRITICAL | \u001b[1;36m2025\u001b[0m-\u001b[1;36m07\u001b[0m-\u001b[1;36m20\u001b[0m \u001b[1;92m15:00:47\u001b[0m,\u001b[1;36m460\u001b[0m | Critical failure! Application    \u001b]8;id=854397;file://C:\\Users\\Sarthak\\AppData\\Local\\Temp\\ipykernel_12880\\4101240448.py\u001b\\\u001b[2m4101240448.py\u001b[0m\u001b]8;;\u001b\\\u001b[2m:\u001b[0m\u001b]8;id=148111;file://C:\\Users\\Sarthak\\AppData\\Local\\Temp\\ipykernel_12880\\4101240448.py#17\u001b\\\u001b[2m17\u001b[0m\u001b]8;;\u001b\\\n",
       "\u001b[2;36m                    \u001b[0m         will terminate.                                                       \u001b[2m                \u001b[0m\n"
      ]
     },
     "metadata": {},
     "output_type": "display_data"
    }
   ],
   "source": [
    "import logging\n",
    "from rich.logging import RichHandler\n",
    "\n",
    "# Configure RichHandler with custom options\n",
    "logging.basicConfig(\n",
    "    level=logging.DEBUG,  # Show all levels\n",
    "    format=\"%(filename)s %(levelname)s | %(asctime)s | %(message)s\",\n",
    "    handlers=[RichHandler(rich_tracebacks=True)]\n",
    ")\n",
    "\n",
    "logger = logging.getLogger()\n",
    "\n",
    "logger.debug(\"This is a debug message: invisible unless level is DEBUG.\")\n",
    "logger.info(\"App started successfully.\")\n",
    "logger.warning(\"Deprecated function is used here.\")\n",
    "logger.error(\"An error occurred during processing.\")\n",
    "logger.critical(\"Critical failure! Application will terminate.\")\n"
   ]
  },
  {
   "cell_type": "code",
   "execution_count": null,
   "id": "bd331f88",
   "metadata": {},
   "outputs": [],
   "source": []
  }
 ],
 "metadata": {
  "kernelspec": {
   "display_name": "genai-workshop",
   "language": "python",
   "name": "python3"
  },
  "language_info": {
   "codemirror_mode": {
    "name": "ipython",
    "version": 3
   },
   "file_extension": ".py",
   "mimetype": "text/x-python",
   "name": "python",
   "nbconvert_exporter": "python",
   "pygments_lexer": "ipython3",
   "version": "3.12.6"
  }
 },
 "nbformat": 4,
 "nbformat_minor": 5
}
